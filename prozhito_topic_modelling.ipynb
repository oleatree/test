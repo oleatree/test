{
  "nbformat": 4,
  "nbformat_minor": 0,
  "metadata": {
    "colab": {
      "name": "prozhito_topic_modelling.ipynb",
      "provenance": [],
      "collapsed_sections": [],
      "include_colab_link": true
    },
    "kernelspec": {
      "name": "python3",
      "display_name": "Python 3"
    },
    "accelerator": "GPU",
    "widgets": {
      "application/vnd.jupyter.widget-state+json": {
        "06cc9d87787546e1b16d9b93cd08ce2e": {
          "model_module": "@jupyter-widgets/controls",
          "model_name": "HBoxModel",
          "state": {
            "_view_name": "HBoxView",
            "_dom_classes": [],
            "_model_name": "HBoxModel",
            "_view_module": "@jupyter-widgets/controls",
            "_model_module_version": "1.5.0",
            "_view_count": null,
            "_view_module_version": "1.5.0",
            "box_style": "",
            "layout": "IPY_MODEL_42b20404e01a454f9b53ff19e7eb519d",
            "_model_module": "@jupyter-widgets/controls",
            "children": [
              "IPY_MODEL_a0f3395c39014dbdae3d4288c9cfedf5",
              "IPY_MODEL_a5b3bd454473473d93e965e1099db890"
            ]
          }
        },
        "42b20404e01a454f9b53ff19e7eb519d": {
          "model_module": "@jupyter-widgets/base",
          "model_name": "LayoutModel",
          "state": {
            "_view_name": "LayoutView",
            "grid_template_rows": null,
            "right": null,
            "justify_content": null,
            "_view_module": "@jupyter-widgets/base",
            "overflow": null,
            "_model_module_version": "1.2.0",
            "_view_count": null,
            "flex_flow": null,
            "width": null,
            "min_width": null,
            "border": null,
            "align_items": null,
            "bottom": null,
            "_model_module": "@jupyter-widgets/base",
            "top": null,
            "grid_column": null,
            "overflow_y": null,
            "overflow_x": null,
            "grid_auto_flow": null,
            "grid_area": null,
            "grid_template_columns": null,
            "flex": null,
            "_model_name": "LayoutModel",
            "justify_items": null,
            "grid_row": null,
            "max_height": null,
            "align_content": null,
            "visibility": null,
            "align_self": null,
            "height": null,
            "min_height": null,
            "padding": null,
            "grid_auto_rows": null,
            "grid_gap": null,
            "max_width": null,
            "order": null,
            "_view_module_version": "1.2.0",
            "grid_template_areas": null,
            "object_position": null,
            "object_fit": null,
            "grid_auto_columns": null,
            "margin": null,
            "display": null,
            "left": null
          }
        },
        "a0f3395c39014dbdae3d4288c9cfedf5": {
          "model_module": "@jupyter-widgets/controls",
          "model_name": "FloatProgressModel",
          "state": {
            "_view_name": "ProgressView",
            "style": "IPY_MODEL_ae84a6eb1f7c47b2adc67a9ab60a4cbf",
            "_dom_classes": [],
            "description": "",
            "_model_name": "FloatProgressModel",
            "bar_style": "success",
            "max": 1,
            "_view_module": "@jupyter-widgets/controls",
            "_model_module_version": "1.5.0",
            "value": 1,
            "_view_count": null,
            "_view_module_version": "1.5.0",
            "orientation": "horizontal",
            "min": 0,
            "description_tooltip": null,
            "_model_module": "@jupyter-widgets/controls",
            "layout": "IPY_MODEL_12838e4d606a4821b7e8f4e6dd38053e"
          }
        },
        "a5b3bd454473473d93e965e1099db890": {
          "model_module": "@jupyter-widgets/controls",
          "model_name": "HTMLModel",
          "state": {
            "_view_name": "HTMLView",
            "style": "IPY_MODEL_7e29404499884d32a1bc25278f29c019",
            "_dom_classes": [],
            "description": "",
            "_model_name": "HTMLModel",
            "placeholder": "​",
            "_view_module": "@jupyter-widgets/controls",
            "_model_module_version": "1.5.0",
            "value": " 10/? [00:24&lt;00:00,  2.43s/it]",
            "_view_count": null,
            "_view_module_version": "1.5.0",
            "description_tooltip": null,
            "_model_module": "@jupyter-widgets/controls",
            "layout": "IPY_MODEL_863be96c697641759a6a8b7822a3b7d5"
          }
        },
        "ae84a6eb1f7c47b2adc67a9ab60a4cbf": {
          "model_module": "@jupyter-widgets/controls",
          "model_name": "ProgressStyleModel",
          "state": {
            "_view_name": "StyleView",
            "_model_name": "ProgressStyleModel",
            "description_width": "initial",
            "_view_module": "@jupyter-widgets/base",
            "_model_module_version": "1.5.0",
            "_view_count": null,
            "_view_module_version": "1.2.0",
            "bar_color": null,
            "_model_module": "@jupyter-widgets/controls"
          }
        },
        "12838e4d606a4821b7e8f4e6dd38053e": {
          "model_module": "@jupyter-widgets/base",
          "model_name": "LayoutModel",
          "state": {
            "_view_name": "LayoutView",
            "grid_template_rows": null,
            "right": null,
            "justify_content": null,
            "_view_module": "@jupyter-widgets/base",
            "overflow": null,
            "_model_module_version": "1.2.0",
            "_view_count": null,
            "flex_flow": null,
            "width": null,
            "min_width": null,
            "border": null,
            "align_items": null,
            "bottom": null,
            "_model_module": "@jupyter-widgets/base",
            "top": null,
            "grid_column": null,
            "overflow_y": null,
            "overflow_x": null,
            "grid_auto_flow": null,
            "grid_area": null,
            "grid_template_columns": null,
            "flex": null,
            "_model_name": "LayoutModel",
            "justify_items": null,
            "grid_row": null,
            "max_height": null,
            "align_content": null,
            "visibility": null,
            "align_self": null,
            "height": null,
            "min_height": null,
            "padding": null,
            "grid_auto_rows": null,
            "grid_gap": null,
            "max_width": null,
            "order": null,
            "_view_module_version": "1.2.0",
            "grid_template_areas": null,
            "object_position": null,
            "object_fit": null,
            "grid_auto_columns": null,
            "margin": null,
            "display": null,
            "left": null
          }
        },
        "7e29404499884d32a1bc25278f29c019": {
          "model_module": "@jupyter-widgets/controls",
          "model_name": "DescriptionStyleModel",
          "state": {
            "_view_name": "StyleView",
            "_model_name": "DescriptionStyleModel",
            "description_width": "",
            "_view_module": "@jupyter-widgets/base",
            "_model_module_version": "1.5.0",
            "_view_count": null,
            "_view_module_version": "1.2.0",
            "_model_module": "@jupyter-widgets/controls"
          }
        },
        "863be96c697641759a6a8b7822a3b7d5": {
          "model_module": "@jupyter-widgets/base",
          "model_name": "LayoutModel",
          "state": {
            "_view_name": "LayoutView",
            "grid_template_rows": null,
            "right": null,
            "justify_content": null,
            "_view_module": "@jupyter-widgets/base",
            "overflow": null,
            "_model_module_version": "1.2.0",
            "_view_count": null,
            "flex_flow": null,
            "width": null,
            "min_width": null,
            "border": null,
            "align_items": null,
            "bottom": null,
            "_model_module": "@jupyter-widgets/base",
            "top": null,
            "grid_column": null,
            "overflow_y": null,
            "overflow_x": null,
            "grid_auto_flow": null,
            "grid_area": null,
            "grid_template_columns": null,
            "flex": null,
            "_model_name": "LayoutModel",
            "justify_items": null,
            "grid_row": null,
            "max_height": null,
            "align_content": null,
            "visibility": null,
            "align_self": null,
            "height": null,
            "min_height": null,
            "padding": null,
            "grid_auto_rows": null,
            "grid_gap": null,
            "max_width": null,
            "order": null,
            "_view_module_version": "1.2.0",
            "grid_template_areas": null,
            "object_position": null,
            "object_fit": null,
            "grid_auto_columns": null,
            "margin": null,
            "display": null,
            "left": null
          }
        }
      }
    }
  },
  "cells": [
    {
      "cell_type": "markdown",
      "metadata": {
        "id": "view-in-github",
        "colab_type": "text"
      },
      "source": [
        "<a href=\"https://colab.research.google.com/github/oleatree/test/blob/master/prozhito_topic_modelling.ipynb\" target=\"_parent\"><img src=\"https://colab.research.google.com/assets/colab-badge.svg\" alt=\"Open In Colab\"/></a>"
      ]
    },
    {
      "cell_type": "markdown",
      "metadata": {
        "id": "Vew-2Pr18KwK"
      },
      "source": [
        "Устанавливаем все необходимые библиотеки."
      ]
    },
    {
      "cell_type": "code",
      "metadata": {
        "id": "H7XvhezSZFIj"
      },
      "source": [
        "from google.colab import files\n",
        "from IPython.display import clear_output"
      ],
      "execution_count": null,
      "outputs": []
    },
    {
      "cell_type": "code",
      "metadata": {
        "id": "C3j7mu8pW2rx"
      },
      "source": [
        "!pip install pycodestyle pycodestyle_magic\n",
        "!pip install flake8\n",
        "clear_output()"
      ],
      "execution_count": null,
      "outputs": []
    },
    {
      "cell_type": "code",
      "metadata": {
        "id": "Z1hdMJy4k-JC"
      },
      "source": [
        "%load_ext pycodestyle_magic"
      ],
      "execution_count": null,
      "outputs": []
    },
    {
      "cell_type": "code",
      "metadata": {
        "id": "T60sVwozQqaA"
      },
      "source": [
        "!pip install -U -q PyDrive"
      ],
      "execution_count": null,
      "outputs": []
    },
    {
      "cell_type": "code",
      "metadata": {
        "id": "DLnSm8urQtJ3"
      },
      "source": [
        "from pydrive.auth import GoogleAuth\n",
        "from pydrive.drive import GoogleDrive\n",
        "from google.colab import auth\n",
        "from oauth2client.client import GoogleCredentials"
      ],
      "execution_count": null,
      "outputs": []
    },
    {
      "cell_type": "code",
      "metadata": {
        "id": "6WewP4XtQ2qe"
      },
      "source": [
        "auth.authenticate_user()\n",
        "gauth = GoogleAuth()\n",
        "gauth.credentials = GoogleCredentials.get_application_default()\n",
        "drive = GoogleDrive(gauth)"
      ],
      "execution_count": null,
      "outputs": []
    },
    {
      "cell_type": "markdown",
      "metadata": {
        "id": "xHqJmsuUbMS-"
      },
      "source": [
        "Загружаем данные."
      ]
    },
    {
      "cell_type": "code",
      "metadata": {
        "id": "Z_pYEmYedC0M"
      },
      "source": [
        "whole_table_with_lemm = drive.CreateFile(\n",
        "    {'id': '1rKrNCmgWPReJujCoZCDlhAb66yiUZ_by'})\n",
        "whole_table_with_lemm.GetContentFile('whole_table_with_lemm.csv')"
      ],
      "execution_count": null,
      "outputs": []
    },
    {
      "cell_type": "markdown",
      "metadata": {
        "id": "534gC1-ybGNt"
      },
      "source": [
        "Импортируем все необходимые библиотеки."
      ]
    },
    {
      "cell_type": "code",
      "metadata": {
        "id": "GBC-2eqEZJJ1"
      },
      "source": [
        "import re\n",
        "import nltk\n",
        "import joblib\n",
        "\n",
        "import pandas as pd\n",
        "import numpy as np\n",
        "\n",
        "from pprint import pprint\n",
        "from ast import literal_eval\n",
        "from datetime import datetime\n",
        "from string import punctuation\n",
        "\n",
        "from tqdm.notebook import tqdm\n",
        "\n",
        "from nltk.corpus import stopwords\n",
        "\n",
        "from gensim.corpora import Dictionary\n",
        "from gensim.models.ldamodel import LdaModel\n",
        "\n",
        "clear_output()"
      ],
      "execution_count": null,
      "outputs": []
    },
    {
      "cell_type": "code",
      "metadata": {
        "colab": {
          "base_uri": "https://localhost:8080/"
        },
        "id": "ZPgZkdrYRe3p",
        "outputId": "b129dbe4-85d5-4bc8-9b9b-04d4cab5b193"
      },
      "source": [
        "nltk.download('stopwords')"
      ],
      "execution_count": null,
      "outputs": [
        {
          "output_type": "stream",
          "text": [
            "[nltk_data] Downloading package stopwords to /root/nltk_data...\n",
            "[nltk_data]   Unzipping corpora/stopwords.zip.\n"
          ],
          "name": "stdout"
        },
        {
          "output_type": "execute_result",
          "data": {
            "text/plain": [
              "True"
            ]
          },
          "metadata": {
            "tags": []
          },
          "execution_count": 9
        }
      ]
    },
    {
      "cell_type": "code",
      "metadata": {
        "id": "UdpjDv6wQ5oo"
      },
      "source": [
        "stop_words = set(stopwords.words('russian'))"
      ],
      "execution_count": null,
      "outputs": []
    },
    {
      "cell_type": "markdown",
      "metadata": {
        "id": "5_P06-sjbPO7"
      },
      "source": [
        "# Цель исследования\n",
        "Тематическое моделирование корпуса текстов: связь тем дневниковых записей с периодом времени написания.\n",
        "# Данные\n",
        "**Meet your dataset: дневниковые записи** [(источник)](https://t.me/c/1358367494/782)<br>\n",
        "\n",
        "**Откуда у нас дневники?**<br>\n",
        "Наши данные - это причёсанный дамп [сайта \"Прожито\"](https://prozhito.org) от апреля 2019 года. Таблицы содержит несколько сотен тысяч записей за большой отрезок времени (от XVIII до XXI века, преимущественно — XX век), так что вам будет, где развернуться ;).<br>\n",
        "<br>\n",
        "**Как устроен датасет?**<br>\n",
        "У нас есть две таблицы, `whole_table.csv` и `whole_table_with_lemm.csv`. Вторая отличается наличием колонки c лемматизированными (т.е. с приведенными в начальную форму словами) mystem записями.<br>\n",
        "В обеих таблицах есть колонка:\n",
        "*   `notes` - содержит сами дневниковые записи\n",
        "*   `dates` - дата записи в формате год/месяц/день\n",
        "*   `id`  -  айдишник автора (не записи!)\n",
        "*   `author` - имя автора записи\n",
        "<br>\n",
        "\n",
        "Практически все поля заполнены, у некоторых отсутствует дата (так как таблица отсортирована по датам, они в самом начале).<br>\n",
        "*От авторов исследования: даты отформатированы как YYYY/(M)M/(D)D, отсутствовать могут день, месяц или год, отсутствующие элементы даты заменены нулями.*\n",
        "# Препроцессинг"
      ]
    },
    {
      "cell_type": "code",
      "metadata": {
        "id": "TMwjG30nsbyK"
      },
      "source": [
        "# напишем отдельную функцию парсинга дат для записей раньше 20 века\n",
        "# или записей у которых отсутствует год, месяц или число\n",
        "# исходя из целей исследования, такие записи неинформативны и их нужно удалять\n",
        "\n",
        "def date_parser(date):\n",
        "    if date and re.match(r'^19\\d{2}/[1-9]\\d?/[1-9]\\d?$', date):\n",
        "        date_split = [int(elem) for elem in date.split('/')]\n",
        "        if date_split[0] >= 1905:\n",
        "            return datetime(year=date_split[0],\n",
        "                            month=date_split[1],\n",
        "                            day=date_split[2])\n",
        "    return np.nan"
      ],
      "execution_count": null,
      "outputs": []
    },
    {
      "cell_type": "code",
      "metadata": {
        "id": "5mOJE4xTbRIP"
      },
      "source": [
        "df = pd.read_csv('whole_table_with_lemm.csv', sep='\\t', index_col=0,\n",
        "                 usecols=[0, 2, 3], parse_dates=['dates'],\n",
        "                 date_parser=date_parser).rename(\n",
        "                     columns={'notes\\n': 'lemm', 'dates': 'date'})"
      ],
      "execution_count": null,
      "outputs": []
    },
    {
      "cell_type": "code",
      "metadata": {
        "colab": {
          "base_uri": "https://localhost:8080/",
          "height": 204
        },
        "id": "Dj4WOm6ah_b1",
        "outputId": "7cff2b5e-a045-4c23-b2c8-c1034b9a5a82"
      },
      "source": [
        "df.head()"
      ],
      "execution_count": null,
      "outputs": [
        {
          "output_type": "execute_result",
          "data": {
            "text/html": [
              "<div>\n",
              "<style scoped>\n",
              "    .dataframe tbody tr th:only-of-type {\n",
              "        vertical-align: middle;\n",
              "    }\n",
              "\n",
              "    .dataframe tbody tr th {\n",
              "        vertical-align: top;\n",
              "    }\n",
              "\n",
              "    .dataframe thead th {\n",
              "        text-align: right;\n",
              "    }\n",
              "</style>\n",
              "<table border=\"1\" class=\"dataframe\">\n",
              "  <thead>\n",
              "    <tr style=\"text-align: right;\">\n",
              "      <th></th>\n",
              "      <th>lemm</th>\n",
              "      <th>date</th>\n",
              "    </tr>\n",
              "  </thead>\n",
              "  <tbody>\n",
              "    <tr>\n",
              "      <th>0</th>\n",
              "      <td>воскресение.    \\nвчера приезжать слава навеща...</td>\n",
              "      <td>NaT</td>\n",
              "    </tr>\n",
              "    <tr>\n",
              "      <th>1</th>\n",
              "      <td>ночь мы достигать банка антон-дорн, в датский ...</td>\n",
              "      <td>NaT</td>\n",
              "    </tr>\n",
              "    <tr>\n",
              "      <th>2</th>\n",
              "      <td>суббота. москва. ехать в селище.\\n</td>\n",
              "      <td>NaT</td>\n",
              "    </tr>\n",
              "    <tr>\n",
              "      <th>3</th>\n",
              "      <td>18 август его королевский величество отправлят...</td>\n",
              "      <td>NaT</td>\n",
              "    </tr>\n",
              "    <tr>\n",
              "      <th>4</th>\n",
              "      <td>на следующий день, 19 август, прибывать в остр...</td>\n",
              "      <td>NaT</td>\n",
              "    </tr>\n",
              "  </tbody>\n",
              "</table>\n",
              "</div>"
            ],
            "text/plain": [
              "                                                lemm date\n",
              "0  воскресение.    \\nвчера приезжать слава навеща...  NaT\n",
              "1  ночь мы достигать банка антон-дорн, в датский ...  NaT\n",
              "2                 суббота. москва. ехать в селище.\\n  NaT\n",
              "3  18 август его королевский величество отправлят...  NaT\n",
              "4  на следующий день, 19 август, прибывать в остр...  NaT"
            ]
          },
          "metadata": {
            "tags": []
          },
          "execution_count": 15
        }
      ]
    },
    {
      "cell_type": "code",
      "metadata": {
        "colab": {
          "base_uri": "https://localhost:8080/"
        },
        "id": "NoKSH40tkwZk",
        "outputId": "d7c81d1b-2984-4239-ee23-6fe65933a775"
      },
      "source": [
        "df.info()"
      ],
      "execution_count": null,
      "outputs": [
        {
          "output_type": "stream",
          "text": [
            "<class 'pandas.core.frame.DataFrame'>\n",
            "Int64Index: 384526 entries, 0 to 384525\n",
            "Data columns (total 2 columns):\n",
            " #   Column  Non-Null Count   Dtype         \n",
            "---  ------  --------------   -----         \n",
            " 0   lemm    384525 non-null  object        \n",
            " 1   date    302547 non-null  datetime64[ns]\n",
            "dtypes: datetime64[ns](1), object(1)\n",
            "memory usage: 8.8+ MB\n"
          ],
          "name": "stdout"
        }
      ]
    },
    {
      "cell_type": "code",
      "metadata": {
        "id": "SGD2RCJhpgFU"
      },
      "source": [
        "!rm whole_table_with_lemm.csv"
      ],
      "execution_count": null,
      "outputs": []
    },
    {
      "cell_type": "markdown",
      "metadata": {
        "id": "FEmDPGZmR_37"
      },
      "source": [
        "Удаляем ненужные записи, делаем столбец `date` индексом."
      ]
    },
    {
      "cell_type": "code",
      "metadata": {
        "id": "1nigQX3Tkzgy"
      },
      "source": [
        "df = df.dropna().set_index('date')"
      ],
      "execution_count": null,
      "outputs": []
    },
    {
      "cell_type": "code",
      "metadata": {
        "colab": {
          "base_uri": "https://localhost:8080/",
          "height": 235
        },
        "id": "0P3S7QKpSgdu",
        "outputId": "3b528374-f5da-4b69-c37d-bd122ec59ab0"
      },
      "source": [
        "df.head()"
      ],
      "execution_count": null,
      "outputs": [
        {
          "output_type": "execute_result",
          "data": {
            "text/html": [
              "<div>\n",
              "<style scoped>\n",
              "    .dataframe tbody tr th:only-of-type {\n",
              "        vertical-align: middle;\n",
              "    }\n",
              "\n",
              "    .dataframe tbody tr th {\n",
              "        vertical-align: top;\n",
              "    }\n",
              "\n",
              "    .dataframe thead th {\n",
              "        text-align: right;\n",
              "    }\n",
              "</style>\n",
              "<table border=\"1\" class=\"dataframe\">\n",
              "  <thead>\n",
              "    <tr style=\"text-align: right;\">\n",
              "      <th></th>\n",
              "      <th>lemm</th>\n",
              "    </tr>\n",
              "    <tr>\n",
              "      <th>date</th>\n",
              "      <th></th>\n",
              "    </tr>\n",
              "  </thead>\n",
              "  <tbody>\n",
              "    <tr>\n",
              "      <th>1905-01-01</th>\n",
              "      <td>в 7 час утро — 4°, туман с дым, тихо. сегодня ...</td>\n",
              "    </tr>\n",
              "    <tr>\n",
              "      <th>1905-01-01</th>\n",
              "      <td>с ранний утро японец опять открывать огонь раз...</td>\n",
              "    </tr>\n",
              "    <tr>\n",
              "      <th>1905-01-01</th>\n",
              "      <td>день новый год проходить благополучно. японец ...</td>\n",
              "    </tr>\n",
              "    <tr>\n",
              "      <th>1905-01-01</th>\n",
              "      <td>вчера говорить, что поражать перемена, который...</td>\n",
              "    </tr>\n",
              "    <tr>\n",
              "      <th>1905-01-01</th>\n",
              "      <td>воскресение. японский выя год    \\nобычный вос...</td>\n",
              "    </tr>\n",
              "  </tbody>\n",
              "</table>\n",
              "</div>"
            ],
            "text/plain": [
              "                                                         lemm\n",
              "date                                                         \n",
              "1905-01-01  в 7 час утро — 4°, туман с дым, тихо. сегодня ...\n",
              "1905-01-01  с ранний утро японец опять открывать огонь раз...\n",
              "1905-01-01  день новый год проходить благополучно. японец ...\n",
              "1905-01-01  вчера говорить, что поражать перемена, который...\n",
              "1905-01-01  воскресение. японский выя год    \\nобычный вос..."
            ]
          },
          "metadata": {
            "tags": []
          },
          "execution_count": 18
        }
      ]
    },
    {
      "cell_type": "code",
      "metadata": {
        "colab": {
          "base_uri": "https://localhost:8080/"
        },
        "id": "xwx0Ce6OShc_",
        "outputId": "5a57c37b-4530-4381-f8e0-b11ef5cf6ff0"
      },
      "source": [
        "df.info()"
      ],
      "execution_count": null,
      "outputs": [
        {
          "output_type": "stream",
          "text": [
            "<class 'pandas.core.frame.DataFrame'>\n",
            "DatetimeIndex: 302546 entries, 1905-01-01 to 1999-12-31\n",
            "Data columns (total 1 columns):\n",
            " #   Column  Non-Null Count   Dtype \n",
            "---  ------  --------------   ----- \n",
            " 0   lemm    302546 non-null  object\n",
            "dtypes: object(1)\n",
            "memory usage: 4.6+ MB\n"
          ],
          "name": "stdout"
        }
      ]
    },
    {
      "cell_type": "markdown",
      "metadata": {
        "id": "CPbnSkqDTOCd"
      },
      "source": [
        "## Токенизация"
      ]
    },
    {
      "cell_type": "code",
      "metadata": {
        "colab": {
          "base_uri": "https://localhost:8080/",
          "height": 35
        },
        "id": "2lVcTbuQXRkZ",
        "outputId": "d95c0693-651f-42cd-d890-56b46939d7f6"
      },
      "source": [
        "punctuation + '— \\n'"
      ],
      "execution_count": null,
      "outputs": [
        {
          "output_type": "execute_result",
          "data": {
            "application/vnd.google.colaboratory.intrinsic+json": {
              "type": "string"
            },
            "text/plain": [
              "'!\"#$%&\\'()*+,-./:;<=>?@[\\\\]^_`{|}~— \\n'"
            ]
          },
          "metadata": {
            "tags": []
          },
          "execution_count": 20
        }
      ]
    },
    {
      "cell_type": "code",
      "metadata": {
        "id": "rhEZVaz8YDSa"
      },
      "source": [
        "regex = r'[!\\\"#$%&\\'()*+,\\-./:;<=>?@[\\\\\\]^_`{|}~— \\n]+'"
      ],
      "execution_count": null,
      "outputs": []
    },
    {
      "cell_type": "code",
      "metadata": {
        "id": "QOMZDkvHZd_D"
      },
      "source": [
        "def tokenization(text):\n",
        "    return [elem for elem in re.split(regex, text)\n",
        "            if elem and elem not in stop_words]"
      ],
      "execution_count": null,
      "outputs": []
    },
    {
      "cell_type": "code",
      "metadata": {
        "id": "a4TJHt8nT3mc"
      },
      "source": [
        "df['lemm'] = df['lemm'].apply(tokenization)\n",
        "clear_output()"
      ],
      "execution_count": null,
      "outputs": []
    },
    {
      "cell_type": "code",
      "metadata": {
        "colab": {
          "base_uri": "https://localhost:8080/",
          "height": 235
        },
        "id": "i0Yv75nZYFeT",
        "outputId": "be316d8a-07bd-4553-e450-87209d21f475"
      },
      "source": [
        "df.head()"
      ],
      "execution_count": null,
      "outputs": [
        {
          "output_type": "execute_result",
          "data": {
            "text/html": [
              "<div>\n",
              "<style scoped>\n",
              "    .dataframe tbody tr th:only-of-type {\n",
              "        vertical-align: middle;\n",
              "    }\n",
              "\n",
              "    .dataframe tbody tr th {\n",
              "        vertical-align: top;\n",
              "    }\n",
              "\n",
              "    .dataframe thead th {\n",
              "        text-align: right;\n",
              "    }\n",
              "</style>\n",
              "<table border=\"1\" class=\"dataframe\">\n",
              "  <thead>\n",
              "    <tr style=\"text-align: right;\">\n",
              "      <th></th>\n",
              "      <th>lemm</th>\n",
              "    </tr>\n",
              "    <tr>\n",
              "      <th>date</th>\n",
              "      <th></th>\n",
              "    </tr>\n",
              "  </thead>\n",
              "  <tbody>\n",
              "    <tr>\n",
              "      <th>1905-01-01</th>\n",
              "      <td>[7, час, утро, 4°, туман, дым, тихо, сегодня, ...</td>\n",
              "    </tr>\n",
              "    <tr>\n",
              "      <th>1905-01-01</th>\n",
              "      <td>[ранний, утро, японец, открывать, огонь, разом...</td>\n",
              "    </tr>\n",
              "    <tr>\n",
              "      <th>1905-01-01</th>\n",
              "      <td>[день, новый, год, проходить, благополучно, яп...</td>\n",
              "    </tr>\n",
              "    <tr>\n",
              "      <th>1905-01-01</th>\n",
              "      <td>[вчера, говорить, поражать, перемена, который,...</td>\n",
              "    </tr>\n",
              "    <tr>\n",
              "      <th>1905-01-01</th>\n",
              "      <td>[воскресение, японский, выя, год, обычный, вос...</td>\n",
              "    </tr>\n",
              "  </tbody>\n",
              "</table>\n",
              "</div>"
            ],
            "text/plain": [
              "                                                         lemm\n",
              "date                                                         \n",
              "1905-01-01  [7, час, утро, 4°, туман, дым, тихо, сегодня, ...\n",
              "1905-01-01  [ранний, утро, японец, открывать, огонь, разом...\n",
              "1905-01-01  [день, новый, год, проходить, благополучно, яп...\n",
              "1905-01-01  [вчера, говорить, поражать, перемена, который,...\n",
              "1905-01-01  [воскресение, японский, выя, год, обычный, вос..."
            ]
          },
          "metadata": {
            "tags": []
          },
          "execution_count": 24
        }
      ]
    },
    {
      "cell_type": "markdown",
      "metadata": {
        "id": "Mr-bcxkZaPYL"
      },
      "source": [
        "Сохраняем и загружаем на гуглдиск готовые к topic modelling данные."
      ]
    },
    {
      "cell_type": "code",
      "metadata": {
        "id": "knGeEif7dzqg"
      },
      "source": [
        "df.to_csv('prozhito_lemmas.csv')"
      ],
      "execution_count": null,
      "outputs": []
    },
    {
      "cell_type": "code",
      "metadata": {
        "colab": {
          "base_uri": "https://localhost:8080/"
        },
        "id": "Oe4wMXP9onV6",
        "outputId": "3b6e18a6-e39b-4c6f-9904-f7f5e12eec68"
      },
      "source": [
        "!zip prozhito_lemmas.zip prozhito_lemmas.csv"
      ],
      "execution_count": null,
      "outputs": [
        {
          "output_type": "stream",
          "text": [
            "  adding: prozhito_lemmas.csv (deflated 78%)\n"
          ],
          "name": "stdout"
        }
      ]
    },
    {
      "cell_type": "code",
      "metadata": {
        "id": "m5BKl83LpVTU"
      },
      "source": [
        "!rm prozhito_lemmas.csv"
      ],
      "execution_count": null,
      "outputs": []
    },
    {
      "cell_type": "code",
      "metadata": {
        "colab": {
          "base_uri": "https://localhost:8080/",
          "height": 17
        },
        "id": "9DDqZPEvdwje",
        "outputId": "0e4abb54-83d8-4954-b42a-20d700b2a170"
      },
      "source": [
        "files.download('prozhito_lemmas.zip')"
      ],
      "execution_count": null,
      "outputs": [
        {
          "output_type": "display_data",
          "data": {
            "application/javascript": [
              "\n",
              "    async function download(id, filename, size) {\n",
              "      if (!google.colab.kernel.accessAllowed) {\n",
              "        return;\n",
              "      }\n",
              "      const div = document.createElement('div');\n",
              "      const label = document.createElement('label');\n",
              "      label.textContent = `Downloading \"${filename}\": `;\n",
              "      div.appendChild(label);\n",
              "      const progress = document.createElement('progress');\n",
              "      progress.max = size;\n",
              "      div.appendChild(progress);\n",
              "      document.body.appendChild(div);\n",
              "\n",
              "      const buffers = [];\n",
              "      let downloaded = 0;\n",
              "\n",
              "      const channel = await google.colab.kernel.comms.open(id);\n",
              "      // Send a message to notify the kernel that we're ready.\n",
              "      channel.send({})\n",
              "\n",
              "      for await (const message of channel.messages) {\n",
              "        // Send a message to notify the kernel that we're ready.\n",
              "        channel.send({})\n",
              "        if (message.buffers) {\n",
              "          for (const buffer of message.buffers) {\n",
              "            buffers.push(buffer);\n",
              "            downloaded += buffer.byteLength;\n",
              "            progress.value = downloaded;\n",
              "          }\n",
              "        }\n",
              "      }\n",
              "      const blob = new Blob(buffers, {type: 'application/binary'});\n",
              "      const a = document.createElement('a');\n",
              "      a.href = window.URL.createObjectURL(blob);\n",
              "      a.download = filename;\n",
              "      div.appendChild(a);\n",
              "      a.click();\n",
              "      div.remove();\n",
              "    }\n",
              "  "
            ],
            "text/plain": [
              "<IPython.core.display.Javascript object>"
            ]
          },
          "metadata": {
            "tags": []
          }
        },
        {
          "output_type": "display_data",
          "data": {
            "application/javascript": [
              "download(\"download_b1d7afee-9e99-4e19-a486-d262050b7be3\", \"prozhito_lemmas.zip\", 129388898)"
            ],
            "text/plain": [
              "<IPython.core.display.Javascript object>"
            ]
          },
          "metadata": {
            "tags": []
          }
        }
      ]
    },
    {
      "cell_type": "code",
      "metadata": {
        "id": "CJOgNS1NfKEh"
      },
      "source": [
        "# код для загрузки готовой к topic modelling таблицы\n",
        "\n",
        "# prozhito_lemmas = drive.CreateFile(\n",
        "#    {'id': '1_t6vdR2iREGMdNNtuYMc09anV0YpbaSs'})\n",
        "# prozhito_lemmas.GetContentFile('prozhito_lemmas.zip')"
      ],
      "execution_count": null,
      "outputs": []
    },
    {
      "cell_type": "markdown",
      "metadata": {
        "id": "kb3gdemp-mhG"
      },
      "source": [
        "Функция для загруженного из гуглдиска датафрейма."
      ]
    },
    {
      "cell_type": "code",
      "metadata": {
        "id": "eJ-N68B4-lPU"
      },
      "source": [
        "def data_to_list(filename):\n",
        "    df = pd.read_csv(filename)\n",
        "    df['lemm'] = df['lemm'].apply(literal_eval)\n",
        "    clear_output()\n",
        "    return df"
      ],
      "execution_count": null,
      "outputs": []
    },
    {
      "cell_type": "markdown",
      "metadata": {
        "id": "fCsy8cJ2fhCX"
      },
      "source": [
        "## Периодизация\n",
        "Поскольку основная часть текстов корпуса приходится на советскую эпоху, решено было выделить следующие периоды:\n",
        "*   *янв. 1905 – янв. 1907* (первая революция)\n",
        "*   *февр. 1907 – май 1914* (период между революциями)\n",
        "*   *июнь 1914 – октябрь 1918* (Первая мировая война и две главные революции в России)\n",
        "*   *ноябрь 1918 – декабрь 1927* (гражданская война, продразверстка, НЭП)\n",
        "*   *январь 1928 – август 1939* (коллективизация, Большой террор)\n",
        "*   *сентябрь 1939 – май 1945* (Вторая мировая война)\n",
        "*   *1946 – 1963* (промежуточный период истории, заканчивается «оттепелью»)\n",
        "*   *1964 – май 1987* (застой)\n",
        "*   *июнь 1987 – июнь 1990* (перестройка и развал СССР)\n",
        "*   *1991 – 2001* (после СССР, «лихие 90-е»)"
      ]
    },
    {
      "cell_type": "code",
      "metadata": {
        "id": "j1P6ddWPZCMl"
      },
      "source": [
        "df = [\n",
        "    df.loc[\n",
        "        pd.Timestamp('1905-1-1 00:00:00'): pd.Timestamp('1907-1-31 23:59:59')\n",
        "        ],\n",
        "    df.loc[\n",
        "        pd.Timestamp('1907-2-1 00:00:00'): pd.Timestamp('1914-5-31 23:59:59')\n",
        "        ],\n",
        "    df.loc[\n",
        "        pd.Timestamp('1914-6-1 00:00:00'): pd.Timestamp('1918-10-31 23:59:59')\n",
        "        ],\n",
        "    df.loc[\n",
        "        pd.Timestamp('1918-11-1 00:00:00'): pd.Timestamp('1927-12-31 23:59:59')\n",
        "        ],\n",
        "    df.loc[\n",
        "        pd.Timestamp('1928-1-1 00:00:00'): pd.Timestamp('1939-8-31 23:59:59')\n",
        "        ],\n",
        "    df.loc[\n",
        "        pd.Timestamp('1939-9-1 00:00:00'): pd.Timestamp('1945-5-31 23:59:59')\n",
        "        ],\n",
        "    df.loc[\n",
        "        pd.Timestamp('1946-1-1 00:00:00'): pd.Timestamp('1963-12-31 23:59:59')\n",
        "        ],\n",
        "    df.loc[\n",
        "        pd.Timestamp('1964-1-1 00:00:00'): pd.Timestamp('1987-5-31 23:59:59')\n",
        "        ],\n",
        "    df.loc[\n",
        "        pd.Timestamp('1987-6-1 00:00:00'): pd.Timestamp('1990-6-30 23:59:59')\n",
        "        ],\n",
        "    df.loc[\n",
        "        pd.Timestamp('1991-1-1 00:00:00'): pd.Timestamp('2001-12-31 23:59:59')]\n",
        "       ]"
      ],
      "execution_count": null,
      "outputs": []
    },
    {
      "cell_type": "code",
      "metadata": {
        "colab": {
          "base_uri": "https://localhost:8080/",
          "height": 204
        },
        "id": "qBwc2U9Ft6Ep",
        "outputId": "8cfde310-0504-4aa5-bb33-26130aab7710"
      },
      "source": [
        "df[1].head()"
      ],
      "execution_count": null,
      "outputs": [
        {
          "output_type": "execute_result",
          "data": {
            "text/html": [
              "<div>\n",
              "<style scoped>\n",
              "    .dataframe tbody tr th:only-of-type {\n",
              "        vertical-align: middle;\n",
              "    }\n",
              "\n",
              "    .dataframe tbody tr th {\n",
              "        vertical-align: top;\n",
              "    }\n",
              "\n",
              "    .dataframe thead th {\n",
              "        text-align: right;\n",
              "    }\n",
              "</style>\n",
              "<table border=\"1\" class=\"dataframe\">\n",
              "  <thead>\n",
              "    <tr style=\"text-align: right;\">\n",
              "      <th></th>\n",
              "      <th>date</th>\n",
              "      <th>lemm</th>\n",
              "    </tr>\n",
              "  </thead>\n",
              "  <tbody>\n",
              "    <tr>\n",
              "      <th>0</th>\n",
              "      <td>1907-02-01</td>\n",
              "      <td>[пятница, чудный, погода, 1, солнце, ветер, па...</td>\n",
              "    </tr>\n",
              "    <tr>\n",
              "      <th>1</th>\n",
              "      <td>1907-02-01</td>\n",
              "      <td>[вчера, ната, звонить, шлиппе, сказать, сергей...</td>\n",
              "    </tr>\n",
              "    <tr>\n",
              "      <th>2</th>\n",
              "      <td>1907-02-01</td>\n",
              "      <td>[пятница, приходиться, позвать, шенгелидзе, т,...</td>\n",
              "    </tr>\n",
              "    <tr>\n",
              "      <th>3</th>\n",
              "      <td>1907-02-01</td>\n",
              "      <td>[четверг, писать, 2, февраль, доклад, военный,...</td>\n",
              "    </tr>\n",
              "    <tr>\n",
              "      <th>4</th>\n",
              "      <td>1907-02-01</td>\n",
              "      <td>[тетя, васино, рождение, тетя, мила, ходить, к...</td>\n",
              "    </tr>\n",
              "  </tbody>\n",
              "</table>\n",
              "</div>"
            ],
            "text/plain": [
              "         date                                               lemm\n",
              "0  1907-02-01  [пятница, чудный, погода, 1, солнце, ветер, па...\n",
              "1  1907-02-01  [вчера, ната, звонить, шлиппе, сказать, сергей...\n",
              "2  1907-02-01  [пятница, приходиться, позвать, шенгелидзе, т,...\n",
              "3  1907-02-01  [четверг, писать, 2, февраль, доклад, военный,...\n",
              "4  1907-02-01  [тетя, васино, рождение, тетя, мила, ходить, к..."
            ]
          },
          "metadata": {
            "tags": []
          },
          "execution_count": 25
        }
      ]
    },
    {
      "cell_type": "code",
      "metadata": {
        "colab": {
          "base_uri": "https://localhost:8080/"
        },
        "id": "oI2_PN_l_un0",
        "outputId": "b15f8261-ba5d-412e-8860-5b8bbabd9fbe"
      },
      "source": [
        "df[1]['lemm'][0]"
      ],
      "execution_count": null,
      "outputs": [
        {
          "output_type": "execute_result",
          "data": {
            "text/plain": [
              "['пятница',\n",
              " 'чудный',\n",
              " 'погода',\n",
              " '1',\n",
              " 'солнце',\n",
              " 'ветер',\n",
              " 'пахнуть',\n",
              " 'весна',\n",
              " 'это',\n",
              " 'удивительно',\n",
              " 'приятно',\n",
              " 'завтрак',\n",
              " 'лена',\n",
              " 'ходить',\n",
              " 'гулять',\n",
              " 'обед',\n",
              " 'время',\n",
              " 'проходить',\n",
              " 'совершенно',\n",
              " 'бесцельно',\n",
              " 'лень',\n",
              " 'приниматься',\n",
              " 'бродить',\n",
              " 'угол',\n",
              " 'угол',\n",
              " 'таланцев',\n",
              " 'пробирать',\n",
              " 'немножко',\n",
              " 'митя',\n",
              " 'лень',\n",
              " 'решать',\n",
              " 'вообще',\n",
              " 'обращаться',\n",
              " 'строгий',\n",
              " 'позволять',\n",
              " 'александра',\n",
              " 'арсеньевна',\n",
              " 'рассказывать',\n",
              " 'нижний',\n",
              " 'думать',\n",
              " 'открывать',\n",
              " 'женский',\n",
              " 'педагогический',\n",
              " 'курсы',\n",
              " 'хороший',\n",
              " 'непременно',\n",
              " 'поступать',\n",
              " 'хотеться',\n",
              " 'учиться',\n",
              " 'вечер',\n",
              " 'лихорадка',\n",
              " '37',\n",
              " '5',\n",
              " 'таки',\n",
              " 'пойти',\n",
              " 'театр',\n",
              " 'лена',\n",
              " 'вася',\n",
              " 'концерт',\n",
              " 'польза',\n",
              " 'общежитие',\n",
              " 'гимназия',\n",
              " 'концерт',\n",
              " 'производить',\n",
              " 'ровно',\n",
              " 'никакой',\n",
              " 'впечатление',\n",
              " 'скучно',\n",
              " 'антракт',\n",
              " 'видеть',\n",
              " 'эрю',\n",
              " 'зина',\n",
              " 'марья',\n",
              " 'миха',\n",
              " 'многий',\n",
              " 'знакомый']"
            ]
          },
          "metadata": {
            "tags": []
          },
          "execution_count": 26
        }
      ]
    },
    {
      "cell_type": "code",
      "metadata": {
        "id": "ZGdbQa3Jl2LH"
      },
      "source": [
        "period = ['first revolution', 'between revolutions', 'WWI', 'civil war',\n",
        "          'great purge', 'WWII', 'before ottepel', 'stagnation','perestroyka',\n",
        "          '90s']"
      ],
      "execution_count": null,
      "outputs": []
    },
    {
      "cell_type": "code",
      "metadata": {
        "colab": {
          "base_uri": "https://localhost:8080/"
        },
        "id": "KCnOpQoCuCcJ",
        "outputId": "1fce4967-0a1a-4f06-a915-e836dcf30f8a"
      },
      "source": [
        "for i, time in enumerate(period):\n",
        "    print(f'{time}:{\" \" * (20 - len(time))}\\t{df[i].shape[0]} entries')"
      ],
      "execution_count": null,
      "outputs": [
        {
          "output_type": "stream",
          "text": [
            "first revolution:    \t5821 entries\n",
            "between revolutions: \t18761 entries\n",
            "WWI:                 \t20362 entries\n",
            "civil war:           \t35981 entries\n",
            "great purge:         \t37175 entries\n",
            "WWII:                \t62686 entries\n",
            "before ottepel:      \t39742 entries\n",
            "stagnation:          \t58121 entries\n",
            "perestroyka:         \t6723 entries\n",
            "90s:                 \t13283 entries\n"
          ],
          "name": "stdout"
        }
      ]
    },
    {
      "cell_type": "markdown",
      "metadata": {
        "id": "vSqUgqnTlCoq"
      },
      "source": [
        "Сохраняем и загружаем на гуглдиск разбитые на периоды данные."
      ]
    },
    {
      "cell_type": "code",
      "metadata": {
        "colab": {
          "base_uri": "https://localhost:8080/",
          "height": 66,
          "referenced_widgets": [
            "06cc9d87787546e1b16d9b93cd08ce2e",
            "42b20404e01a454f9b53ff19e7eb519d",
            "a0f3395c39014dbdae3d4288c9cfedf5",
            "a5b3bd454473473d93e965e1099db890",
            "ae84a6eb1f7c47b2adc67a9ab60a4cbf",
            "12838e4d606a4821b7e8f4e6dd38053e",
            "7e29404499884d32a1bc25278f29c019",
            "863be96c697641759a6a8b7822a3b7d5"
          ]
        },
        "id": "16Ty6Sl6lkFK",
        "outputId": "13f21bc8-6954-4eee-ed22-a441d266e520"
      },
      "source": [
        "for i, table in tqdm(enumerate(df)):\n",
        "    table.to_csv(f'{i + 1}_{period[i].replace(\" \", \"_\")}.csv')"
      ],
      "execution_count": null,
      "outputs": [
        {
          "output_type": "display_data",
          "data": {
            "application/vnd.jupyter.widget-view+json": {
              "model_id": "06cc9d87787546e1b16d9b93cd08ce2e",
              "version_minor": 0,
              "version_major": 2
            },
            "text/plain": [
              "HBox(children=(FloatProgress(value=1.0, bar_style='info', max=1.0), HTML(value='')))"
            ]
          },
          "metadata": {
            "tags": []
          }
        },
        {
          "output_type": "stream",
          "text": [
            "\n"
          ],
          "name": "stdout"
        }
      ]
    },
    {
      "cell_type": "code",
      "metadata": {
        "colab": {
          "base_uri": "https://localhost:8080/"
        },
        "id": "zZiG-SWioT8Z",
        "outputId": "f4ea43fe-0329-4bb5-dba8-28278a504763"
      },
      "source": [
        "!zip prozhito_periodization.zip *.csv"
      ],
      "execution_count": null,
      "outputs": [
        {
          "output_type": "stream",
          "text": [
            "  adding: 10_90s.csv (deflated 78%)\n",
            "  adding: 1_first_revolution.csv (deflated 78%)\n",
            "  adding: 2_between_revolutions.csv (deflated 78%)\n",
            "  adding: 3_WWI.csv (deflated 78%)\n",
            "  adding: 4_civil_war.csv (deflated 77%)\n",
            "  adding: 5_great_purge.csv (deflated 78%)\n",
            "  adding: 6_WWII.csv (deflated 78%)\n",
            "  adding: 7_before_ottepel.csv (deflated 78%)\n",
            "  adding: 8_stagnation.csv (deflated 78%)\n",
            "  adding: 9_perestroyka.csv (deflated 78%)\n"
          ],
          "name": "stdout"
        }
      ]
    },
    {
      "cell_type": "code",
      "metadata": {
        "colab": {
          "base_uri": "https://localhost:8080/",
          "height": 17
        },
        "id": "sbD78kCyqbvX",
        "outputId": "92e7ef66-ea38-4b06-dbab-2122384aa4b2"
      },
      "source": [
        "files.download('prozhito_periodization.zip')"
      ],
      "execution_count": null,
      "outputs": [
        {
          "output_type": "display_data",
          "data": {
            "application/javascript": [
              "\n",
              "    async function download(id, filename, size) {\n",
              "      if (!google.colab.kernel.accessAllowed) {\n",
              "        return;\n",
              "      }\n",
              "      const div = document.createElement('div');\n",
              "      const label = document.createElement('label');\n",
              "      label.textContent = `Downloading \"${filename}\": `;\n",
              "      div.appendChild(label);\n",
              "      const progress = document.createElement('progress');\n",
              "      progress.max = size;\n",
              "      div.appendChild(progress);\n",
              "      document.body.appendChild(div);\n",
              "\n",
              "      const buffers = [];\n",
              "      let downloaded = 0;\n",
              "\n",
              "      const channel = await google.colab.kernel.comms.open(id);\n",
              "      // Send a message to notify the kernel that we're ready.\n",
              "      channel.send({})\n",
              "\n",
              "      for await (const message of channel.messages) {\n",
              "        // Send a message to notify the kernel that we're ready.\n",
              "        channel.send({})\n",
              "        if (message.buffers) {\n",
              "          for (const buffer of message.buffers) {\n",
              "            buffers.push(buffer);\n",
              "            downloaded += buffer.byteLength;\n",
              "            progress.value = downloaded;\n",
              "          }\n",
              "        }\n",
              "      }\n",
              "      const blob = new Blob(buffers, {type: 'application/binary'});\n",
              "      const a = document.createElement('a');\n",
              "      a.href = window.URL.createObjectURL(blob);\n",
              "      a.download = filename;\n",
              "      div.appendChild(a);\n",
              "      a.click();\n",
              "      div.remove();\n",
              "    }\n",
              "  "
            ],
            "text/plain": [
              "<IPython.core.display.Javascript object>"
            ]
          },
          "metadata": {
            "tags": []
          }
        },
        {
          "output_type": "display_data",
          "data": {
            "application/javascript": [
              "download(\"download_f0158eb3-9906-4984-bee2-b730b4fb5ea3\", \"prozhito_periodization.zip\", 127790247)"
            ],
            "text/plain": [
              "<IPython.core.display.Javascript object>"
            ]
          },
          "metadata": {
            "tags": []
          }
        }
      ]
    },
    {
      "cell_type": "code",
      "metadata": {
        "id": "PQcS2HT9qjT2"
      },
      "source": [
        "# код для загрузки архива таблиц для каждого периода\n",
        "\n",
        "# prozhito_periodization = drive.CreateFile(\n",
        "#    {'id': '1LcrY9pNxXHa9xLJ4jGnm8lXVbegFodUQ'})\n",
        "# prozhito_periodization.GetContentFile('prozhito_periodization.zip')"
      ],
      "execution_count": null,
      "outputs": []
    },
    {
      "cell_type": "markdown",
      "metadata": {
        "id": "DUIIzLnsZ58W"
      },
      "source": [
        "# LDA with Gensim"
      ]
    },
    {
      "cell_type": "code",
      "metadata": {
        "id": "Lu1JWRHLq5ls"
      },
      "source": [
        "models = []\n",
        "\n",
        "for table in df:\n",
        "    data = list(table['lemm'])\n",
        "    id2word = Dictionary(data)\n",
        "    corpus = [id2word.doc2bow(text) for text in data]\n",
        "    model = LdaModel(corpus, num_topics=10, id2word=id2word, passes=15,\n",
        "                     iterations=100, per_word_topics=True)\n",
        "    models.append(model)\n",
        "    clear_output()\n",
        "    print(f'Моделей обучено: {len(models)}')"
      ],
      "execution_count": null,
      "outputs": []
    },
    {
      "cell_type": "markdown",
      "metadata": {
        "id": "cUNPOqEGyJzB"
      },
      "source": [
        "Сохраняем и загружаем на гуглдиск обученные модели с наборами тем для каждого периода."
      ]
    },
    {
      "cell_type": "code",
      "metadata": {
        "id": "PnFiwceOyRZL"
      },
      "source": [
        "joblib.dump(models, 'prozhito_topic_modelling.pkl')"
      ],
      "execution_count": null,
      "outputs": []
    },
    {
      "cell_type": "code",
      "metadata": {
        "id": "LVNODfqSyjpR"
      },
      "source": [
        "!zip prozhito_topic_modelling.zip prozhito_topic_modelling.pkl"
      ],
      "execution_count": null,
      "outputs": []
    },
    {
      "cell_type": "code",
      "metadata": {
        "colab": {
          "base_uri": "https://localhost:8080/",
          "height": 34
        },
        "id": "WtFS5OiEywCe",
        "outputId": "92e7ef66-ea38-4b06-dbab-2122384aa4b2"
      },
      "source": [
        "files.download('prozhito_periodization.zip')"
      ],
      "execution_count": null,
      "outputs": [
        {
          "output_type": "display_data",
          "data": {
            "application/javascript": [
              "\n",
              "    async function download(id, filename, size) {\n",
              "      if (!google.colab.kernel.accessAllowed) {\n",
              "        return;\n",
              "      }\n",
              "      const div = document.createElement('div');\n",
              "      const label = document.createElement('label');\n",
              "      label.textContent = `Downloading \"${filename}\": `;\n",
              "      div.appendChild(label);\n",
              "      const progress = document.createElement('progress');\n",
              "      progress.max = size;\n",
              "      div.appendChild(progress);\n",
              "      document.body.appendChild(div);\n",
              "\n",
              "      const buffers = [];\n",
              "      let downloaded = 0;\n",
              "\n",
              "      const channel = await google.colab.kernel.comms.open(id);\n",
              "      // Send a message to notify the kernel that we're ready.\n",
              "      channel.send({})\n",
              "\n",
              "      for await (const message of channel.messages) {\n",
              "        // Send a message to notify the kernel that we're ready.\n",
              "        channel.send({})\n",
              "        if (message.buffers) {\n",
              "          for (const buffer of message.buffers) {\n",
              "            buffers.push(buffer);\n",
              "            downloaded += buffer.byteLength;\n",
              "            progress.value = downloaded;\n",
              "          }\n",
              "        }\n",
              "      }\n",
              "      const blob = new Blob(buffers, {type: 'application/binary'});\n",
              "      const a = document.createElement('a');\n",
              "      a.href = window.URL.createObjectURL(blob);\n",
              "      a.download = filename;\n",
              "      div.appendChild(a);\n",
              "      a.click();\n",
              "      div.remove();\n",
              "    }\n",
              "  "
            ],
            "text/plain": [
              "<IPython.core.display.Javascript object>"
            ]
          },
          "metadata": {
            "tags": []
          }
        },
        {
          "output_type": "display_data",
          "data": {
            "application/javascript": [
              "download(\"download_f0158eb3-9906-4984-bee2-b730b4fb5ea3\", \"prozhito_periodization.zip\", 127790247)"
            ],
            "text/plain": [
              "<IPython.core.display.Javascript object>"
            ]
          },
          "metadata": {
            "tags": []
          }
        }
      ]
    },
    {
      "cell_type": "code",
      "metadata": {
        "id": "_XxHvt0FywCj"
      },
      "source": [
        "# код для загрузки обученных моделей\n",
        "\n",
        "# prozhito_topic_modelling = drive.CreateFile(\n",
        "#    {'id': '1rKrNCmgWPReJujCoZCDlhAb66yiUZ_by'})\n",
        "# prozhito_topic_modelling.GetContentFile('prozhito_topic_modelling.pkl')"
      ],
      "execution_count": null,
      "outputs": []
    },
    {
      "cell_type": "markdown",
      "metadata": {
        "id": "CUlVzh2ZyxUF"
      },
      "source": [
        "# Результаты\n",
        "[Визуализация результатов](https://colab.research.google.com/drive/1rejmaQAdDrRG6KLD1cb4T382OfaVs_Rh?usp=sharing)\n",
        "## Первая революция\n",
        "### (*янв. 1905 – янв. 1907*)\n",
        "Темы дневниковых записей:"
      ]
    },
    {
      "cell_type": "code",
      "metadata": {
        "id": "gBvh3Y8j1mxj"
      },
      "source": [
        "pprint(models[0].print_topics())"
      ],
      "execution_count": null,
      "outputs": []
    },
    {
      "cell_type": "markdown",
      "metadata": {
        "id": "hL0wv9ku2rk7"
      },
      "source": [
        "## Период между революциями\n",
        "### (*февр. 1907 – май 1914*)\n",
        "Темы дневниковых записей:"
      ]
    },
    {
      "cell_type": "code",
      "metadata": {
        "id": "1qklJ_Tl2K-u"
      },
      "source": [
        "pprint(models[1].print_topics())"
      ],
      "execution_count": null,
      "outputs": []
    },
    {
      "cell_type": "markdown",
      "metadata": {
        "id": "4LuMC2yh2vGw"
      },
      "source": [
        "## Первая мировая война и две главные революции в России\n",
        "###(*июнь 1914 – октябрь 1918*)\n",
        "Темы дневниковых записей:"
      ]
    },
    {
      "cell_type": "code",
      "metadata": {
        "id": "y0qhBLmo2LIr"
      },
      "source": [
        "pprint(models[2].print_topics())"
      ],
      "execution_count": null,
      "outputs": []
    },
    {
      "cell_type": "markdown",
      "metadata": {
        "id": "3XaT7Vzf2wIq"
      },
      "source": [
        "## Гражданская война, продразверстка, НЭП\n",
        "### (*ноябрь 1918 – декабрь 1927*)\n",
        "Темы дневниковых записей:"
      ]
    },
    {
      "cell_type": "code",
      "metadata": {
        "id": "k1GLjOSO2LQy"
      },
      "source": [
        "pprint(models[3].print_topics())"
      ],
      "execution_count": null,
      "outputs": []
    },
    {
      "cell_type": "markdown",
      "metadata": {
        "id": "QXqvQhZk2xGb"
      },
      "source": [
        "## Коллективизация, Большой террор\n",
        "### (*январь 1928 – август 1939*)\n",
        "Темы дневниковых записей:"
      ]
    },
    {
      "cell_type": "code",
      "metadata": {
        "id": "FuO0x-UB2LXz"
      },
      "source": [
        "pprint(models[4].print_topics())"
      ],
      "execution_count": null,
      "outputs": []
    },
    {
      "cell_type": "markdown",
      "metadata": {
        "id": "Lrh-Xal72yLk"
      },
      "source": [
        "## Вторая мировая война\n",
        "### (*сентябрь 1939 – май 1945*)\n",
        "Темы дневниковых записей:"
      ]
    },
    {
      "cell_type": "code",
      "metadata": {
        "id": "bkXjqe8k2LfY"
      },
      "source": [
        "pprint(models[5].print_topics())"
      ],
      "execution_count": null,
      "outputs": []
    },
    {
      "cell_type": "markdown",
      "metadata": {
        "id": "qV0Cp03E2zVr"
      },
      "source": [
        "## Промежуточный период истории, заканчивается «оттепелью» \n",
        "### (*1946 – 1963*)\n",
        "Темы дневниковых записей:"
      ]
    },
    {
      "cell_type": "code",
      "metadata": {
        "id": "0WUDtdua2LnE"
      },
      "source": [
        "pprint(models[6].print_topics())"
      ],
      "execution_count": null,
      "outputs": []
    },
    {
      "cell_type": "markdown",
      "metadata": {
        "id": "pikQi6Or26FG"
      },
      "source": [
        "## Застой\n",
        "### (*1964 – май 1987*)\n",
        "Темы дневниковых записей:"
      ]
    },
    {
      "cell_type": "code",
      "metadata": {
        "id": "L2mUmlZF2MOg"
      },
      "source": [
        "pprint(models[7].print_topics())"
      ],
      "execution_count": null,
      "outputs": []
    },
    {
      "cell_type": "markdown",
      "metadata": {
        "id": "phzX_AJB27Qf"
      },
      "source": [
        "## Перестройка и развал СССР\n",
        "### (*июнь 1987 – июнь 1990*)\n",
        "Темы дневниковых записей:"
      ]
    },
    {
      "cell_type": "code",
      "metadata": {
        "id": "HGhzISxc2RHz"
      },
      "source": [
        "pprint(models[8].print_topics())"
      ],
      "execution_count": null,
      "outputs": []
    },
    {
      "cell_type": "markdown",
      "metadata": {
        "id": "XdwTg5sO28sb"
      },
      "source": [
        "## После СССР, «лихие 90-е»\n",
        "### (*1991 – 2001*)\n",
        "Темы дневниковых записей:"
      ]
    },
    {
      "cell_type": "code",
      "metadata": {
        "id": "fyKQ206p2Rx0"
      },
      "source": [
        "pprint(models[9].print_topics())"
      ],
      "execution_count": null,
      "outputs": []
    }
  ]
}